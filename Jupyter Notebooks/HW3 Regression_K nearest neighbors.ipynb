{
 "cells": [
  {
   "cell_type": "code",
   "execution_count": 1,
   "id": "e52c70cf",
   "metadata": {},
   "outputs": [
    {
     "name": "stdout",
     "output_type": "stream",
     "text": [
      "Populating the interactive namespace from numpy and matplotlib\n"
     ]
    }
   ],
   "source": [
    "from pandas import Series, DataFrame\n",
    "import pandas as pd\n",
    "%pylab inline"
   ]
  },
  {
   "cell_type": "code",
   "execution_count": 2,
   "id": "117463dd",
   "metadata": {},
   "outputs": [],
   "source": [
    "# Special packages\n",
    "import statsmodels.api as sm\n",
    "from patsy import dmatrices"
   ]
  },
  {
   "cell_type": "markdown",
   "id": "f4d7da01",
   "metadata": {},
   "source": [
    "Question 1"
   ]
  },
  {
   "cell_type": "markdown",
   "id": "c54f8dce",
   "metadata": {},
   "source": [
    "I was getting a certificate command error when trying to read the file through the URL so the professor told me to download the file and read it in as a txt file. This question reads the file in, separates the columns by spaces, and assings column names."
   ]
  },
  {
   "cell_type": "code",
   "execution_count": 4,
   "id": "cf1efa68",
   "metadata": {},
   "outputs": [
    {
     "data": {
      "text/html": [
       "<div>\n",
       "<style scoped>\n",
       "    .dataframe tbody tr th:only-of-type {\n",
       "        vertical-align: middle;\n",
       "    }\n",
       "\n",
       "    .dataframe tbody tr th {\n",
       "        vertical-align: top;\n",
       "    }\n",
       "\n",
       "    .dataframe thead th {\n",
       "        text-align: right;\n",
       "    }\n",
       "</style>\n",
       "<table border=\"1\" class=\"dataframe\">\n",
       "  <thead>\n",
       "    <tr style=\"text-align: right;\">\n",
       "      <th></th>\n",
       "      <th>county</th>\n",
       "      <th>percentVoting</th>\n",
       "      <th>age</th>\n",
       "      <th>savings</th>\n",
       "      <th>income</th>\n",
       "      <th>percent_poverty</th>\n",
       "      <th>percent_veterans</th>\n",
       "      <th>percent_female</th>\n",
       "      <th>pop_density</th>\n",
       "      <th>percent_nursing</th>\n",
       "      <th>crime_index</th>\n",
       "    </tr>\n",
       "  </thead>\n",
       "  <tbody>\n",
       "    <tr>\n",
       "      <th>0</th>\n",
       "      <td>Autauga, AL</td>\n",
       "      <td>30.92</td>\n",
       "      <td>31.7</td>\n",
       "      <td>57623</td>\n",
       "      <td>15768</td>\n",
       "      <td>15.2</td>\n",
       "      <td>10.74</td>\n",
       "      <td>51.41</td>\n",
       "      <td>60.4</td>\n",
       "      <td>2.36</td>\n",
       "      <td>457</td>\n",
       "    </tr>\n",
       "    <tr>\n",
       "      <th>1</th>\n",
       "      <td>Baldwin, AL</td>\n",
       "      <td>26.24</td>\n",
       "      <td>35.5</td>\n",
       "      <td>84935</td>\n",
       "      <td>16954</td>\n",
       "      <td>13.6</td>\n",
       "      <td>9.73</td>\n",
       "      <td>51.34</td>\n",
       "      <td>66.5</td>\n",
       "      <td>5.40</td>\n",
       "      <td>282</td>\n",
       "    </tr>\n",
       "    <tr>\n",
       "      <th>2</th>\n",
       "      <td>Barbour, AL</td>\n",
       "      <td>46.36</td>\n",
       "      <td>32.8</td>\n",
       "      <td>83656</td>\n",
       "      <td>15532</td>\n",
       "      <td>25.0</td>\n",
       "      <td>8.82</td>\n",
       "      <td>53.03</td>\n",
       "      <td>28.8</td>\n",
       "      <td>7.02</td>\n",
       "      <td>47</td>\n",
       "    </tr>\n",
       "    <tr>\n",
       "      <th>3</th>\n",
       "      <td>Blount, AL</td>\n",
       "      <td>32.92</td>\n",
       "      <td>34.5</td>\n",
       "      <td>61249</td>\n",
       "      <td>14820</td>\n",
       "      <td>15.0</td>\n",
       "      <td>9.67</td>\n",
       "      <td>51.15</td>\n",
       "      <td>62.4</td>\n",
       "      <td>2.36</td>\n",
       "      <td>185</td>\n",
       "    </tr>\n",
       "    <tr>\n",
       "      <th>4</th>\n",
       "      <td>Bullock, AL</td>\n",
       "      <td>67.67</td>\n",
       "      <td>31.7</td>\n",
       "      <td>75725</td>\n",
       "      <td>11120</td>\n",
       "      <td>33.0</td>\n",
       "      <td>7.08</td>\n",
       "      <td>50.76</td>\n",
       "      <td>17.6</td>\n",
       "      <td>2.91</td>\n",
       "      <td>141</td>\n",
       "    </tr>\n",
       "    <tr>\n",
       "      <th>5</th>\n",
       "      <td>Butler, AL</td>\n",
       "      <td>47.43</td>\n",
       "      <td>33.5</td>\n",
       "      <td>75887</td>\n",
       "      <td>12015</td>\n",
       "      <td>27.1</td>\n",
       "      <td>9.48</td>\n",
       "      <td>53.25</td>\n",
       "      <td>28.1</td>\n",
       "      <td>7.98</td>\n",
       "      <td>266</td>\n",
       "    </tr>\n",
       "    <tr>\n",
       "      <th>6</th>\n",
       "      <td>Calhoun, AL</td>\n",
       "      <td>38.44</td>\n",
       "      <td>32.7</td>\n",
       "      <td>76073</td>\n",
       "      <td>15162</td>\n",
       "      <td>18.0</td>\n",
       "      <td>11.95</td>\n",
       "      <td>51.66</td>\n",
       "      <td>190.8</td>\n",
       "      <td>4.81</td>\n",
       "      <td>560</td>\n",
       "    </tr>\n",
       "    <tr>\n",
       "      <th>7</th>\n",
       "      <td>Chambers, AL</td>\n",
       "      <td>45.36</td>\n",
       "      <td>34.8</td>\n",
       "      <td>40498</td>\n",
       "      <td>13887</td>\n",
       "      <td>18.8</td>\n",
       "      <td>10.52</td>\n",
       "      <td>52.77</td>\n",
       "      <td>62.1</td>\n",
       "      <td>6.15</td>\n",
       "      <td>218</td>\n",
       "    </tr>\n",
       "    <tr>\n",
       "      <th>8</th>\n",
       "      <td>Cherokee, AL</td>\n",
       "      <td>53.61</td>\n",
       "      <td>36.3</td>\n",
       "      <td>56386</td>\n",
       "      <td>13936</td>\n",
       "      <td>15.4</td>\n",
       "      <td>9.29</td>\n",
       "      <td>50.82</td>\n",
       "      <td>35.8</td>\n",
       "      <td>5.61</td>\n",
       "      <td>51</td>\n",
       "    </tr>\n",
       "    <tr>\n",
       "      <th>9</th>\n",
       "      <td>Chilton, AL</td>\n",
       "      <td>34.19</td>\n",
       "      <td>34.0</td>\n",
       "      <td>52230</td>\n",
       "      <td>14036</td>\n",
       "      <td>18.6</td>\n",
       "      <td>9.48</td>\n",
       "      <td>51.41</td>\n",
       "      <td>47.8</td>\n",
       "      <td>3.58</td>\n",
       "      <td>296</td>\n",
       "    </tr>\n",
       "  </tbody>\n",
       "</table>\n",
       "</div>"
      ],
      "text/plain": [
       "         county  percentVoting   age  savings  income  percent_poverty  \\\n",
       "0   Autauga, AL          30.92  31.7    57623   15768             15.2   \n",
       "1   Baldwin, AL          26.24  35.5    84935   16954             13.6   \n",
       "2   Barbour, AL          46.36  32.8    83656   15532             25.0   \n",
       "3    Blount, AL          32.92  34.5    61249   14820             15.0   \n",
       "4   Bullock, AL          67.67  31.7    75725   11120             33.0   \n",
       "5    Butler, AL          47.43  33.5    75887   12015             27.1   \n",
       "6   Calhoun, AL          38.44  32.7    76073   15162             18.0   \n",
       "7  Chambers, AL          45.36  34.8    40498   13887             18.8   \n",
       "8  Cherokee, AL          53.61  36.3    56386   13936             15.4   \n",
       "9   Chilton, AL          34.19  34.0    52230   14036             18.6   \n",
       "\n",
       "   percent_veterans  percent_female  pop_density  percent_nursing  crime_index  \n",
       "0             10.74           51.41         60.4             2.36          457  \n",
       "1              9.73           51.34         66.5             5.40          282  \n",
       "2              8.82           53.03         28.8             7.02           47  \n",
       "3              9.67           51.15         62.4             2.36          185  \n",
       "4              7.08           50.76         17.6             2.91          141  \n",
       "5              9.48           53.25         28.1             7.98          266  \n",
       "6             11.95           51.66        190.8             4.81          560  \n",
       "7             10.52           52.77         62.1             6.15          218  \n",
       "8              9.29           50.82         35.8             5.61           51  \n",
       "9              9.48           51.41         47.8             3.58          296  "
      ]
     },
     "execution_count": 4,
     "metadata": {},
     "output_type": "execute_result"
    }
   ],
   "source": [
    "df = pd.read_csv('clinton1.txt', sep = ' \\s+', engine = 'python',\\\n",
    "                   names=['county', 'percentVoting', 'age', 'savings', \\\n",
    "                          'income', 'percent_poverty', 'percent_veterans', 'percent_female', \\\n",
    "                          'pop_density', 'percent_nursing', 'crime_index'])\n",
    "df[:10]"
   ]
  },
  {
   "cell_type": "markdown",
   "id": "8e1df1c4",
   "metadata": {},
   "source": [
    "Question 2"
   ]
  },
  {
   "cell_type": "markdown",
   "id": "941293c2",
   "metadata": {},
   "source": [
    "This question uses dmatrices to take in a formula string and then constructs a model. The results give the p-values for each regressor. The regressors called age and crime_index have the worst p-values."
   ]
  },
  {
   "cell_type": "code",
   "execution_count": 5,
   "id": "b1c3e327",
   "metadata": {},
   "outputs": [
    {
     "data": {
      "text/plain": [
       "Intercept            5.457367e-11\n",
       "age                  2.386186e-01\n",
       "savings              4.859660e-10\n",
       "income               1.761381e-02\n",
       "percent_poverty     9.526970e-100\n",
       "percent_veterans     3.852591e-04\n",
       "percent_female       4.425751e-23\n",
       "pop_density          8.177372e-22\n",
       "percent_nursing      5.246414e-03\n",
       "crime_index          1.419496e-01\n",
       "dtype: float64"
      ]
     },
     "execution_count": 5,
     "metadata": {},
     "output_type": "execute_result"
    }
   ],
   "source": [
    "y, X = dmatrices('percentVoting ~ age + savings + income + percent_poverty + percent_veterans + percent_female + pop_density + percent_nursing + crime_index', data=df, return_type='dataframe')\n",
    "model = sm.OLS(y, X)\n",
    "result = model.fit()\n",
    "result.pvalues"
   ]
  },
  {
   "cell_type": "markdown",
   "id": "8782fed9",
   "metadata": {},
   "source": [
    "Question 3"
   ]
  },
  {
   "cell_type": "markdown",
   "id": "d95f9fc5",
   "metadata": {},
   "source": [
    "This question defines a function called formula which takes in 1 parameter. The parameter is a list of regressors. Then, the function concatenates all of the individual regressors within the list and returns a formula that regresses percentVoting on these regressors."
   ]
  },
  {
   "cell_type": "code",
   "execution_count": 6,
   "id": "968c88ef",
   "metadata": {},
   "outputs": [
    {
     "data": {
      "text/plain": [
       "'percentVoting ~ age + savings'"
      ]
     },
     "execution_count": 6,
     "metadata": {},
     "output_type": "execute_result"
    }
   ],
   "source": [
    "def formula(list):\n",
    "    return 'percentVoting ~ ' + \" + \".join(list)\n",
    "formula(['age', 'savings'])"
   ]
  },
  {
   "cell_type": "markdown",
   "id": "d5b62393",
   "metadata": {},
   "source": [
    "Question 4"
   ]
  },
  {
   "cell_type": "markdown",
   "id": "09281077",
   "metadata": {},
   "source": [
    "This question defines a function called rsquared which takes in 1 parameter. The parameter is also a list of regressors. Within the function, dmatrices is used to take in a formula and create a model. Then, the rsquared value is returned."
   ]
  },
  {
   "cell_type": "code",
   "execution_count": 7,
   "id": "46315f7f",
   "metadata": {},
   "outputs": [
    {
     "data": {
      "text/plain": [
       "0.01976709665957599"
      ]
     },
     "execution_count": 7,
     "metadata": {},
     "output_type": "execute_result"
    }
   ],
   "source": [
    "def rsquared(reg):\n",
    "    y, X = dmatrices(formula(reg), data=df, return_type = 'dataframe')\n",
    "    model = sm.OLS(y, X)\n",
    "    result = model.fit()\n",
    "    return result.rsquared\n",
    "\n",
    "rsquared(['age', 'savings'])"
   ]
  },
  {
   "cell_type": "markdown",
   "id": "68ed8b45",
   "metadata": {},
   "source": [
    "Question 5"
   ]
  },
  {
   "cell_type": "markdown",
   "id": "23903ecb",
   "metadata": {},
   "source": [
    "This question defines a function called best_next_regressor with 2 parameters. These parameters are a list of current regressors and a list of all of the regressors. An empty dictionary is declared. Then, a for loop is used to iterate through all of the regressors and calculate the r-squared values. The dictionary is populated with each regressor and its corresponding r-squared value. Then, the dictionary is sorted in descending order and the function returns the best regressor which means the highest r-squared value."
   ]
  },
  {
   "cell_type": "code",
   "execution_count": 8,
   "id": "e377de7d",
   "metadata": {},
   "outputs": [
    {
     "data": {
      "text/plain": [
       "('percent_poverty', 0.2631032949912523)"
      ]
     },
     "execution_count": 8,
     "metadata": {},
     "output_type": "execute_result"
    }
   ],
   "source": [
    "current_regressor_list = ['age', 'income']\n",
    "all_regressors_list = ['age', 'savings', 'income', 'percent_poverty', 'percent_veterans', 'percent_female', 'pop_density', 'percent_nursing', 'crime_index']\n",
    "\n",
    "def best_next_regressor(current_regressor_list, all_regressor_list):  \n",
    "    max_dict = {}\n",
    "    \n",
    "    for x in all_regressor_list:\n",
    "        current_regressor_list.append(x)\n",
    "        my_dict = {x: rsquared(current_regressor_list)}\n",
    "        max_dict.update(my_dict)\n",
    "        current_regressor_list.remove(x)\n",
    "    sorted_dict = dict(sorted(max_dict.items(), key=lambda item: item[1], reverse=True))\n",
    "    maximum = list(sorted_dict.items())\n",
    "    best = list(sorted_dict.keys())[0]\n",
    "    current_regressor_list.append(best)\n",
    "    return (maximum[0])\n",
    "\n",
    "best_next_regressor(current_regressor_list, all_regressors_list)"
   ]
  },
  {
   "cell_type": "markdown",
   "id": "12ec8e4c",
   "metadata": {},
   "source": [
    "Question 6"
   ]
  },
  {
   "cell_type": "markdown",
   "id": "8b1a3629",
   "metadata": {},
   "source": [
    "This question defines a function called best_regressors whuch takes in 2 parameters. These are the number of regressors wanted and a list of all the regressors. A for loop is used to call the previous function however many times as defined by num_regressors. This function returns that many regressors, which are the best ones to yield the highest r-squared value."
   ]
  },
  {
   "cell_type": "code",
   "execution_count": 9,
   "id": "bcdab5cf",
   "metadata": {},
   "outputs": [
    {
     "data": {
      "text/plain": [
       "[('percent_poverty', 0.2510385196163196), ('pop_density', 0.28582980229105814)]"
      ]
     },
     "execution_count": 9,
     "metadata": {},
     "output_type": "execute_result"
    }
   ],
   "source": [
    "num_regressors = 2\n",
    "all_regressors_list = ['age', 'savings', 'income', 'percent_poverty', 'percent_veterans', 'percent_female', 'pop_density', 'percent_nursing', 'crime_index']\n",
    "    \n",
    "def best_regressors(num_regressors, all_regressors_list):\n",
    "    current_regressor_list = []\n",
    "    best = []\n",
    "\n",
    "    for i in range(num_regressors):\n",
    "        y = best_next_regressor(current_regressor_list, all_regressors_list)\n",
    "        best.append(y)\n",
    "        regressor = y[0]\n",
    "        current_regressor_list.append(regressor)\n",
    "    return best       \n",
    "    \n",
    "best_regressors(num_regressors, all_regressors_list)"
   ]
  },
  {
   "cell_type": "markdown",
   "id": "d32dd944",
   "metadata": {},
   "source": [
    "Question 7"
   ]
  },
  {
   "cell_type": "markdown",
   "id": "fca9afbe",
   "metadata": {},
   "source": [
    "This question runs the previous function 9 times because that is the amount of regressors possible. It displays forward selection by returning the regressors in order of which ones should be added one by one in order to yield the highest r-squared value."
   ]
  },
  {
   "cell_type": "code",
   "execution_count": 10,
   "id": "21a50073",
   "metadata": {},
   "outputs": [
    {
     "data": {
      "text/plain": [
       "[('percent_poverty', 0.2510385196163196),\n",
       " ('pop_density', 0.28582980229105814),\n",
       " ('percent_female', 0.30914506632485783),\n",
       " ('savings', 0.319241185023705),\n",
       " ('percent_veterans', 0.32299256887291694),\n",
       " ('percent_nursing', 0.3248512713869368),\n",
       " ('income', 0.32582492389958884),\n",
       " ('crime_index', 0.32655325570492566),\n",
       " ('age', 0.3269003872517403)]"
      ]
     },
     "execution_count": 10,
     "metadata": {},
     "output_type": "execute_result"
    }
   ],
   "source": [
    "num_regressors = 9\n",
    "all_regressors_list = ['age', 'savings', 'income', 'percent_poverty', 'percent_veterans', 'percent_female', 'pop_density', 'percent_nursing', 'crime_index']\n",
    "\n",
    "best_regressors(num_regressors, all_regressors_list)"
   ]
  },
  {
   "cell_type": "markdown",
   "id": "a313cd08",
   "metadata": {},
   "source": [
    "Question 8"
   ]
  },
  {
   "cell_type": "markdown",
   "id": "560b9212",
   "metadata": {},
   "source": [
    "This question plots the answer from question 7. A for loop is used to combine all of the regressor names as the x values and the corresponding r-squared values as the y values. Plt.xticks rotates the orientation of the x-axis labels to make it easily visible and plt.plot plots the x and y values."
   ]
  },
  {
   "cell_type": "code",
   "execution_count": 11,
   "id": "a8efacdc",
   "metadata": {},
   "outputs": [
    {
     "data": {
      "text/plain": [
       "[<matplotlib.lines.Line2D at 0x2624768ee50>]"
      ]
     },
     "execution_count": 11,
     "metadata": {},
     "output_type": "execute_result"
    },
    {
     "data": {
      "image/png": "[encoded data removed]",
      "text/plain": [
       "<Figure size 432x288 with 1 Axes>"
      ]
     },
     "metadata": {
      "needs_background": "light"
     },
     "output_type": "display_data"
    }
   ],
   "source": [
    "result = best_regressors(9, all_regressors_list)\n",
    "x = []\n",
    "y = []\n",
    "\n",
    "for i in result:\n",
    "    x.append(i[0])\n",
    "    y.append(i[1])\n",
    "    \n",
    "plt.xticks(rotation=90)\n",
    "plt.plot(x,y, marker = 'o')"
   ]
  },
  {
   "cell_type": "markdown",
   "id": "5bbb5543",
   "metadata": {},
   "source": [
    "Question 9"
   ]
  },
  {
   "cell_type": "markdown",
   "id": "ab777ceb",
   "metadata": {},
   "source": [
    "For this question, the target column was initially set to zero for all records. After that, a mask was made including all counties that voted 40% or more for bill Clinton, and the target value for those records was switched to 1"
   ]
  },
  {
   "cell_type": "code",
   "execution_count": 12,
   "id": "c8d2bef7",
   "metadata": {
    "scrolled": true
   },
   "outputs": [
    {
     "data": {
      "text/html": [
       "<div>\n",
       "<style scoped>\n",
       "    .dataframe tbody tr th:only-of-type {\n",
       "        vertical-align: middle;\n",
       "    }\n",
       "\n",
       "    .dataframe tbody tr th {\n",
       "        vertical-align: top;\n",
       "    }\n",
       "\n",
       "    .dataframe thead th {\n",
       "        text-align: right;\n",
       "    }\n",
       "</style>\n",
       "<table border=\"1\" class=\"dataframe\">\n",
       "  <thead>\n",
       "    <tr style=\"text-align: right;\">\n",
       "      <th></th>\n",
       "      <th>county</th>\n",
       "      <th>percentVoting</th>\n",
       "      <th>age</th>\n",
       "      <th>savings</th>\n",
       "      <th>income</th>\n",
       "      <th>percent_poverty</th>\n",
       "      <th>percent_veterans</th>\n",
       "      <th>percent_female</th>\n",
       "      <th>pop_density</th>\n",
       "      <th>percent_nursing</th>\n",
       "      <th>crime_index</th>\n",
       "      <th>target</th>\n",
       "    </tr>\n",
       "  </thead>\n",
       "  <tbody>\n",
       "    <tr>\n",
       "      <th>0</th>\n",
       "      <td>Autauga, AL</td>\n",
       "      <td>30.92</td>\n",
       "      <td>31.7</td>\n",
       "      <td>57623</td>\n",
       "      <td>15768</td>\n",
       "      <td>15.2</td>\n",
       "      <td>10.74</td>\n",
       "      <td>51.41</td>\n",
       "      <td>60.4</td>\n",
       "      <td>2.36</td>\n",
       "      <td>457</td>\n",
       "      <td>0.0</td>\n",
       "    </tr>\n",
       "    <tr>\n",
       "      <th>1</th>\n",
       "      <td>Baldwin, AL</td>\n",
       "      <td>26.24</td>\n",
       "      <td>35.5</td>\n",
       "      <td>84935</td>\n",
       "      <td>16954</td>\n",
       "      <td>13.6</td>\n",
       "      <td>9.73</td>\n",
       "      <td>51.34</td>\n",
       "      <td>66.5</td>\n",
       "      <td>5.40</td>\n",
       "      <td>282</td>\n",
       "      <td>0.0</td>\n",
       "    </tr>\n",
       "    <tr>\n",
       "      <th>2</th>\n",
       "      <td>Barbour, AL</td>\n",
       "      <td>46.36</td>\n",
       "      <td>32.8</td>\n",
       "      <td>83656</td>\n",
       "      <td>15532</td>\n",
       "      <td>25.0</td>\n",
       "      <td>8.82</td>\n",
       "      <td>53.03</td>\n",
       "      <td>28.8</td>\n",
       "      <td>7.02</td>\n",
       "      <td>47</td>\n",
       "      <td>1.0</td>\n",
       "    </tr>\n",
       "    <tr>\n",
       "      <th>3</th>\n",
       "      <td>Blount, AL</td>\n",
       "      <td>32.92</td>\n",
       "      <td>34.5</td>\n",
       "      <td>61249</td>\n",
       "      <td>14820</td>\n",
       "      <td>15.0</td>\n",
       "      <td>9.67</td>\n",
       "      <td>51.15</td>\n",
       "      <td>62.4</td>\n",
       "      <td>2.36</td>\n",
       "      <td>185</td>\n",
       "      <td>0.0</td>\n",
       "    </tr>\n",
       "    <tr>\n",
       "      <th>4</th>\n",
       "      <td>Bullock, AL</td>\n",
       "      <td>67.67</td>\n",
       "      <td>31.7</td>\n",
       "      <td>75725</td>\n",
       "      <td>11120</td>\n",
       "      <td>33.0</td>\n",
       "      <td>7.08</td>\n",
       "      <td>50.76</td>\n",
       "      <td>17.6</td>\n",
       "      <td>2.91</td>\n",
       "      <td>141</td>\n",
       "      <td>1.0</td>\n",
       "    </tr>\n",
       "  </tbody>\n",
       "</table>\n",
       "</div>"
      ],
      "text/plain": [
       "        county  percentVoting   age  savings  income  percent_poverty  \\\n",
       "0  Autauga, AL          30.92  31.7    57623   15768             15.2   \n",
       "1  Baldwin, AL          26.24  35.5    84935   16954             13.6   \n",
       "2  Barbour, AL          46.36  32.8    83656   15532             25.0   \n",
       "3   Blount, AL          32.92  34.5    61249   14820             15.0   \n",
       "4  Bullock, AL          67.67  31.7    75725   11120             33.0   \n",
       "\n",
       "   percent_veterans  percent_female  pop_density  percent_nursing  \\\n",
       "0             10.74           51.41         60.4             2.36   \n",
       "1              9.73           51.34         66.5             5.40   \n",
       "2              8.82           53.03         28.8             7.02   \n",
       "3              9.67           51.15         62.4             2.36   \n",
       "4              7.08           50.76         17.6             2.91   \n",
       "\n",
       "   crime_index  target  \n",
       "0          457     0.0  \n",
       "1          282     0.0  \n",
       "2           47     1.0  \n",
       "3          185     0.0  \n",
       "4          141     1.0  "
      ]
     },
     "execution_count": 12,
     "metadata": {},
     "output_type": "execute_result"
    }
   ],
   "source": [
    "df['target'] = 0.0\n",
    "mask = df['percentVoting'] >= 40\n",
    "df.loc[mask, 'target'] = 1\n",
    "df[:5]"
   ]
  },
  {
   "cell_type": "markdown",
   "id": "869f7d3f",
   "metadata": {},
   "source": [
    "Question 10"
   ]
  },
  {
   "cell_type": "markdown",
   "id": "b3ed753f",
   "metadata": {},
   "source": [
    "The data was first split into two design matrices, one as input values and one as output values. From there, the two matricies were split further into training sets comprising 70% of the records, and test sets with 30%."
   ]
  },
  {
   "cell_type": "code",
   "execution_count": 32,
   "id": "66934ec7",
   "metadata": {},
   "outputs": [
    {
     "name": "stdout",
     "output_type": "stream",
     "text": [
      "   pop_density  percent_poverty\n",
      "0         60.4             15.2\n",
      "1         66.5             13.6\n",
      "2         28.8             25.0\n",
      "3         62.4             15.0\n",
      "4         17.6             33.0\n",
      "   target\n",
      "0     0.0\n",
      "1     0.0\n",
      "2     1.0\n",
      "3     0.0\n",
      "4     1.0\n"
     ]
    }
   ],
   "source": [
    "from sklearn.model_selection import train_test_split \n",
    "\n",
    "y, X = dmatrices('target ~ 0 + pop_density + percent_poverty',\n",
    "                 df,return_type=\"dataframe\")\n",
    "\n",
    "X_train, X_test, y_train, y_test = train_test_split(X,y, test_size = 0.3, random_state = 1)\n",
    "\n",
    "print(X[:5])\n",
    "print(y[:5])"
   ]
  },
  {
   "cell_type": "markdown",
   "id": "ab2c29f9",
   "metadata": {},
   "source": [
    "Question 11"
   ]
  },
  {
   "cell_type": "markdown",
   "id": "2e4f08eb",
   "metadata": {},
   "source": [
    "The training and sets that were defined in the previous problem are now used in the KNeighborClassifier function to see the effects of different quantities of nearest neighbors used on the accuracy of the predictive model. The function and prediction was repeated for each of the different quantities of nearest neighbors, first for the training set of data and again for the test set."
   ]
  },
  {
   "cell_type": "code",
   "execution_count": 30,
   "id": "57d29827",
   "metadata": {},
   "outputs": [
    {
     "name": "stdout",
     "output_type": "stream",
     "text": [
      "Number of Neighbors = 1\n",
      "0.9978858350951374\n",
      "0.6009852216748769\n",
      "\n",
      "Number of Neighbors = 3\n",
      "0.7880549682875264\n",
      "0.6354679802955665\n",
      "\n",
      "Number of Neighbors = 5\n",
      "0.7484143763213531\n",
      "0.6305418719211823\n",
      "\n",
      "Number of Neighbors = 10\n",
      "0.7204016913319239\n",
      "0.646551724137931\n",
      "\n",
      "Number of Neighbors = 20\n",
      "0.6902748414376322\n",
      "0.6588669950738916\n",
      "\n",
      "Number of Neighbors = 50\n",
      "0.6839323467230444\n",
      "0.6625615763546798\n",
      "\n",
      "Number of Neighbors = 100\n",
      "0.6775898520084567\n",
      "0.6637931034482759\n",
      "\n",
      "Number of Neighbors = 1000\n",
      "0.5671247357293869\n",
      "0.5763546798029556\n",
      "\n"
     ]
    }
   ],
   "source": [
    "from sklearn import neighbors\n",
    "from sklearn import metrics\n",
    "\n",
    "model = neighbors.KNeighborsClassifier(n_neighbors=1,\n",
    "                                       weights='uniform',\n",
    "                                       p=2)\n",
    "model.fit(X_train, y_train.values.ravel())\n",
    "\n",
    "print('Number of Neighbors = 1')\n",
    "predicted_classes_train = model.predict(X_train)\n",
    "print(metrics.accuracy_score(y_train, predicted_classes_train))\n",
    "predicted_classes_test = model.predict(X_test)\n",
    "print(metrics.accuracy_score(y_test, predicted_classes_test))\n",
    "print()\n",
    "\n",
    "model = neighbors.KNeighborsClassifier(n_neighbors=3,\n",
    "                                       weights='uniform',\n",
    "                                       p=2)\n",
    "model.fit(X_train, y_train.values.ravel())\n",
    "\n",
    "print('Number of Neighbors = 3')\n",
    "predicted_classes_train = model.predict(X_train)\n",
    "print(metrics.accuracy_score(y_train, predicted_classes_train))\n",
    "predicted_classes_test = model.predict(X_test)\n",
    "print(metrics.accuracy_score(y_test, predicted_classes_test))\n",
    "print()\n",
    "\n",
    "model = neighbors.KNeighborsClassifier(n_neighbors=5,\n",
    "                                       weights='uniform',\n",
    "                                       p=2)\n",
    "model.fit(X_train, y_train.values.ravel())\n",
    "\n",
    "print('Number of Neighbors = 5')\n",
    "predicted_classes_train = model.predict(X_train)\n",
    "print(metrics.accuracy_score(y_train, predicted_classes_train))\n",
    "predicted_classes_test = model.predict(X_test)\n",
    "print(metrics.accuracy_score(y_test, predicted_classes_test))\n",
    "print()\n",
    "\n",
    "model = neighbors.KNeighborsClassifier(n_neighbors=10,\n",
    "                                       weights='uniform',\n",
    "                                       p=2)\n",
    "model.fit(X_train, y_train.values.ravel())\n",
    "\n",
    "print('Number of Neighbors = 10')\n",
    "predicted_classes_train = model.predict(X_train)\n",
    "print(metrics.accuracy_score(y_train, predicted_classes_train))\n",
    "predicted_classes_test = model.predict(X_test)\n",
    "print(metrics.accuracy_score(y_test, predicted_classes_test))\n",
    "print()\n",
    "\n",
    "model = neighbors.KNeighborsClassifier(n_neighbors=20,\n",
    "                                       weights='uniform',\n",
    "                                       p=2)\n",
    "model.fit(X_train, y_train.values.ravel())\n",
    "\n",
    "print('Number of Neighbors = 20')\n",
    "predicted_classes_train = model.predict(X_train)\n",
    "print(metrics.accuracy_score(y_train, predicted_classes_train))\n",
    "predicted_classes_test = model.predict(X_test)\n",
    "print(metrics.accuracy_score(y_test, predicted_classes_test))\n",
    "print()\n",
    "\n",
    "model = neighbors.KNeighborsClassifier(n_neighbors=50,\n",
    "                                       weights='uniform',\n",
    "                                       p=2)\n",
    "model.fit(X_train, y_train.values.ravel())\n",
    "\n",
    "print('Number of Neighbors = 50')\n",
    "predicted_classes_train = model.predict(X_train)\n",
    "print(metrics.accuracy_score(y_train, predicted_classes_train))\n",
    "predicted_classes_test = model.predict(X_test)\n",
    "print(metrics.accuracy_score(y_test, predicted_classes_test))\n",
    "print()\n",
    "\n",
    "model = neighbors.KNeighborsClassifier(n_neighbors=100,\n",
    "                                       weights='uniform',\n",
    "                                       p=2)\n",
    "model.fit(X_train, y_train.values.ravel())\n",
    "\n",
    "print('Number of Neighbors = 100')\n",
    "predicted_classes_train = model.predict(X_train)\n",
    "print(metrics.accuracy_score(y_train, predicted_classes_train))\n",
    "predicted_classes_test = model.predict(X_test)\n",
    "print(metrics.accuracy_score(y_test, predicted_classes_test))\n",
    "print()\n",
    "\n",
    "model = neighbors.KNeighborsClassifier(n_neighbors=1000,\n",
    "                                       weights='uniform',\n",
    "                                       p=2)\n",
    "model.fit(X_train, y_train.values.ravel())\n",
    "\n",
    "print('Number of Neighbors = 1000')\n",
    "predicted_classes_train = model.predict(X_train)\n",
    "print(metrics.accuracy_score(y_train, predicted_classes_train))\n",
    "predicted_classes_test = model.predict(X_test)\n",
    "print(metrics.accuracy_score(y_test, predicted_classes_test))\n",
    "print()\n",
    "\n",
    "\n",
    "\n",
    "\n",
    "\n",
    "\n",
    "\n",
    "\n",
    "\n"
   ]
  },
  {
   "cell_type": "markdown",
   "id": "4f59a21a",
   "metadata": {},
   "source": [
    "Question 12\n",
    "\n",
    "For this scatter display of data, we plotted the counties showing the variety in population density on the y axis and the differences of poverty percentages on the x axis. We split up the color of the dots so that red dots represent counties with a strong vote for Bill Clinton and blue dots are all others.\n",
    "\n",
    "After interpreting this data, we noticed that typically the denser and more impoverished a county is, the more likely it is to have a high vote count for Bill Clinton( >= 40%) "
   ]
  },
  {
   "cell_type": "code",
   "execution_count": 29,
   "id": "9305596f",
   "metadata": {},
   "outputs": [
    {
     "data": {
      "text/plain": [
       "Text(0, 0.5, 'pop_density')"
      ]
     },
     "execution_count": 29,
     "metadata": {},
     "output_type": "execute_result"
    },
    {
     "data": {
      "image/png": "[encoded data removed]",
      "text/plain": [
       "<Figure size 432x288 with 2 Axes>"
      ]
     },
     "metadata": {
      "needs_background": "light"
     },
     "output_type": "display_data"
    }
   ],
   "source": [
    "sc = scatter(X['percent_poverty'], X['pop_density'], c=y.values, cmap='bwr')\n",
    "colorbar(sc)\n",
    "xlabel('percent_poverty')\n",
    "ylabel('pop_density')"
   ]
  }
 ],
 "metadata": {
  "kernelspec": {
   "display_name": "Python 3 (ipykernel)",
   "language": "python",
   "name": "python3"
  },
  "language_info": {
   "codemirror_mode": {
    "name": "ipython",
    "version": 3
   },
   "file_extension": ".py",
   "mimetype": "text/x-python",
   "name": "python",
   "nbconvert_exporter": "python",
   "pygments_lexer": "ipython3",
   "version": "3.9.7"
  }
 },
 "nbformat": 4,
 "nbformat_minor": 5
}
