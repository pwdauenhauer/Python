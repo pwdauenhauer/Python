{
 "cells": [
  {
   "cell_type": "code",
   "execution_count": 2,
   "id": "further-thought",
   "metadata": {},
   "outputs": [
    {
     "name": "stdout",
     "output_type": "stream",
     "text": [
      "Populating the interactive namespace from numpy and matplotlib\n"
     ]
    }
   ],
   "source": [
    "import pandas as pd\n",
    "from pandas import Series, DataFrame\n",
    "%pylab inline"
   ]
  },
  {
   "cell_type": "markdown",
   "id": "boring-circumstances",
   "metadata": {},
   "source": [
    "---\n",
    "\n",
    "We will look at foreclosed property data from Los Angeles and surrounding areas in 2014.\n",
    "We will need the following fields:\n",
    "* Property Type, which specifies the kind of house that was foreclosed\n",
    "* Property Location, which is an address with Latitude and Longitude\n",
    "* Zip Code\n",
    "* Lender, which names the bank (or other company) that foreclosed on the property\n",
    "* Lender Contact, which is the name of a person working in that bank\n",
    "* Property Management, which is the name of a company that \"manages\" the property being foreclosed.\n",
    "\n",
    "---"
   ]
  },
  {
   "cell_type": "markdown",
   "id": "hidden-petersburg",
   "metadata": {},
   "source": [
    "### [Q1 7 points] Read in the file \"2014_Registered_Foreclosure_Properties.csv\" and print the first line."
   ]
  },
  {
   "cell_type": "code",
   "execution_count": 21,
   "id": "empirical-isolation",
   "metadata": {},
   "outputs": [
    {
     "data": {
      "text/html": [
       "<div>\n",
       "<style scoped>\n",
       "    .dataframe tbody tr th:only-of-type {\n",
       "        vertical-align: middle;\n",
       "    }\n",
       "\n",
       "    .dataframe tbody tr th {\n",
       "        vertical-align: top;\n",
       "    }\n",
       "\n",
       "    .dataframe thead th {\n",
       "        text-align: right;\n",
       "    }\n",
       "</style>\n",
       "<table border=\"1\" class=\"dataframe\">\n",
       "  <thead>\n",
       "    <tr style=\"text-align: right;\">\n",
       "      <th></th>\n",
       "      <th>APN</th>\n",
       "      <th>Registered Date</th>\n",
       "      <th>Property Type</th>\n",
       "      <th>Property Location</th>\n",
       "      <th>Zip Code</th>\n",
       "      <th>Council District</th>\n",
       "      <th>Lender</th>\n",
       "      <th>Lender Contact</th>\n",
       "      <th>Lender Contact Phone</th>\n",
       "      <th>Property Management</th>\n",
       "      <th>Property Management Contact</th>\n",
       "      <th>Property Management Address</th>\n",
       "      <th>Property Contact Phone</th>\n",
       "    </tr>\n",
       "  </thead>\n",
       "  <tbody>\n",
       "    <tr>\n",
       "      <th>0</th>\n",
       "      <td>4239001009</td>\n",
       "      <td>01/07/2014</td>\n",
       "      <td>Multi-Family</td>\n",
       "      <td>709 S 5TH AVE\\nLos Angeles, CA 90291\\n(33.9954...</td>\n",
       "      <td>90291</td>\n",
       "      <td>11</td>\n",
       "      <td>DCB UNITED LLC</td>\n",
       "      <td>DENNIS ANGEL</td>\n",
       "      <td>818-881-0311</td>\n",
       "      <td>NaN</td>\n",
       "      <td>NaN</td>\n",
       "      <td>NaN</td>\n",
       "      <td>NaN</td>\n",
       "    </tr>\n",
       "  </tbody>\n",
       "</table>\n",
       "</div>"
      ],
      "text/plain": [
       "          APN Registered Date Property Type  \\\n",
       "0  4239001009      01/07/2014  Multi-Family   \n",
       "\n",
       "                                   Property Location Zip Code  \\\n",
       "0  709 S 5TH AVE\\nLos Angeles, CA 90291\\n(33.9954...    90291   \n",
       "\n",
       "  Council District          Lender Lender Contact Lender Contact Phone  \\\n",
       "0               11  DCB UNITED LLC   DENNIS ANGEL         818-881-0311   \n",
       "\n",
       "  Property Management Property Management Contact Property Management Address  \\\n",
       "0                 NaN                         NaN                         NaN   \n",
       "\n",
       "  Property Contact Phone  \n",
       "0                    NaN  "
      ]
     },
     "execution_count": 21,
     "metadata": {},
     "output_type": "execute_result"
    }
   ],
   "source": [
    "df = pd.read_csv('2014_Registered_Foreclosure_Properties.csv', dtype=str)\n",
    "df[:1]"
   ]
  },
  {
   "cell_type": "markdown",
   "id": "quiet-steam",
   "metadata": {},
   "source": [
    "### [Q2 9 points] How many foreclosed properties are there in the Zip Code 90210?"
   ]
  },
  {
   "cell_type": "code",
   "execution_count": 13,
   "id": "sharing-methodology",
   "metadata": {},
   "outputs": [
    {
     "data": {
      "text/plain": [
       "37"
      ]
     },
     "execution_count": 13,
     "metadata": {},
     "output_type": "execute_result"
    }
   ],
   "source": [
    "temp = df[df['Zip Code'] == '90210']\n",
    "len(temp)"
   ]
  },
  {
   "cell_type": "markdown",
   "id": "uniform-plymouth",
   "metadata": {},
   "source": [
    "### [Q3 9 points] Print out the number of foreclosed properties for all \"Property Types\""
   ]
  },
  {
   "cell_type": "code",
   "execution_count": 16,
   "id": "exceptional-gabriel",
   "metadata": {},
   "outputs": [
    {
     "data": {
      "text/plain": [
       "Single Family         6272\n",
       "Multi-Family          1254\n",
       "Non-Residential         56\n",
       "Vacant Residential      17\n",
       "Name: Property Type, dtype: int64"
      ]
     },
     "execution_count": 16,
     "metadata": {},
     "output_type": "execute_result"
    }
   ],
   "source": [
    "temp2 = df['Property Type'].value_counts()\n",
    "temp2"
   ]
  },
  {
   "cell_type": "markdown",
   "id": "alike-emerald",
   "metadata": {},
   "source": [
    "### [Q4 9 points] For how many properties is the Property Management *not* missing?"
   ]
  },
  {
   "cell_type": "code",
   "execution_count": 20,
   "id": "practical-walker",
   "metadata": {},
   "outputs": [
    {
     "data": {
      "text/plain": [
       "7410"
      ]
     },
     "execution_count": 20,
     "metadata": {},
     "output_type": "execute_result"
    }
   ],
   "source": [
    "temp3 = df.dropna(subset = ['Property Management'])\n",
    "len(temp3)"
   ]
  },
  {
   "cell_type": "markdown",
   "id": "focal-shell",
   "metadata": {},
   "source": [
    "### [Q5 9 points] Plot the top 10 Lenders.\n",
    "The x-axis should be the name of the Lender, and the y-axis should be the number of foreclosed properties."
   ]
  },
  {
   "cell_type": "code",
   "execution_count": 22,
   "id": "representative-damage",
   "metadata": {},
   "outputs": [
    {
     "data": {
      "text/plain": [
       "<AxesSubplot:>"
      ]
     },
     "execution_count": 22,
     "metadata": {},
     "output_type": "execute_result"
    },
    {
     "data": {
      "image/png": "[encoded data removed]",
      "text/plain": [
       "<Figure size 432x288 with 1 Axes>"
      ]
     },
     "metadata": {
      "needs_background": "light"
     },
     "output_type": "display_data"
    }
   ],
   "source": [
    "temp4 = df['Lender'].value_counts()[:10]\n",
    "temp4.plot(kind = 'bar')"
   ]
  },
  {
   "cell_type": "markdown",
   "id": "simplified-resolution",
   "metadata": {},
   "source": [
    "### [Q6 9 points] For how many properties is the Property Management identical to the Lender?"
   ]
  },
  {
   "cell_type": "code",
   "execution_count": 23,
   "id": "presidential-concert",
   "metadata": {},
   "outputs": [
    {
     "data": {
      "text/plain": [
       "30"
      ]
     },
     "execution_count": 23,
     "metadata": {},
     "output_type": "execute_result"
    }
   ],
   "source": [
    "temp5 = df[df['Property Management'] == df['Lender']]\n",
    "len(temp5)"
   ]
  },
  {
   "cell_type": "markdown",
   "id": "powerful-mustang",
   "metadata": {},
   "source": [
    "### [Q7 11 points] Plot the top-10 Zip Codes for Multi-Family Property Types.\n",
    "Select only the properties where the Property Type is Multi-Family. Among these, find the top 10 Zip Codes. Plot the Zip Code on the x-axis and the number of Multi-Family properties on the y-axis."
   ]
  },
  {
   "cell_type": "code",
   "execution_count": 24,
   "id": "moved-registration",
   "metadata": {},
   "outputs": [
    {
     "data": {
      "text/plain": [
       "<AxesSubplot:>"
      ]
     },
     "execution_count": 24,
     "metadata": {},
     "output_type": "execute_result"
    },
    {
     "data": {
      "image/png": "[encoded data removed]",
      "text/plain": [
       "<Figure size 432x288 with 1 Axes>"
      ]
     },
     "metadata": {
      "needs_background": "light"
     },
     "output_type": "display_data"
    }
   ],
   "source": [
    "temp6 = df[df['Property Type'] == 'Multi-Family']\n",
    "temp6['Zip Code'].value_counts()[:10].plot(kind = 'bar')"
   ]
  },
  {
   "cell_type": "markdown",
   "id": "three-ability",
   "metadata": {},
   "source": [
    "### [Q8 11 points] How many properties do *not* have \"Los Angeles\" somewhere in their Property Location?\n",
    "You need not search for \"los angeles\" or other upper/lower-case combinations. Just \"Los Angeles\"."
   ]
  },
  {
   "cell_type": "code",
   "execution_count": 27,
   "id": "touched-ethnic",
   "metadata": {},
   "outputs": [
    {
     "data": {
      "text/plain": [
       "599"
      ]
     },
     "execution_count": 27,
     "metadata": {},
     "output_type": "execute_result"
    }
   ],
   "source": [
    "temp7 = df[~df['Property Location'].str.contains('Los Angeles')] #the ~ character is used for a 'not' identifier for the function\n",
    "len(temp7)"
   ]
  },
  {
   "cell_type": "markdown",
   "id": "supreme-measure",
   "metadata": {},
   "source": [
    "### [Q9 13 points] Find all Lenders who have more than 5 Lender Contacts associated with them."
   ]
  },
  {
   "cell_type": "code",
   "execution_count": 41,
   "id": "afraid-middle",
   "metadata": {},
   "outputs": [
    {
     "data": {
      "text/plain": [
       "Fannie Mae                                            14\n",
       "Bank of America c/o Select Portfolio Servicing         6\n",
       "JPMorgan Chase Bank C/o Select Portfolio Servicing     6\n",
       "Name: Lender, dtype: int64"
      ]
     },
     "execution_count": 41,
     "metadata": {},
     "output_type": "execute_result"
    }
   ],
   "source": [
    "temp8 = df[['Lender','Lender Contact']].drop_duplicates()['Lender'].value_counts()\n",
    "temp8[temp8>5]"
   ]
  },
  {
   "cell_type": "markdown",
   "id": "better-solid",
   "metadata": {},
   "source": [
    "### [Q10 13 points] Among Lenders who have at least 10 foreclosed properties, find those who only have properties of a single Property Type.\n",
    "\n",
    "For example:\n",
    "* if *ABC Bank* has 10 properties, and they are all Single-Family, then *ABC Bank* passes the check\n",
    "* if *DEF Bank* has 12 properties, where 10 are Single-Family and 2 are Multi-Family, then it does *not* pass the check\n",
    "* if *JKL Bank* has 3 properties only, it does not pass.\n",
    "Print out all the banks that pass the check."
   ]
  },
  {
   "cell_type": "code",
   "execution_count": 47,
   "id": "announced-magazine",
   "metadata": {},
   "outputs": [
    {
     "data": {
      "text/plain": [
       "U.S. Bank, National Association C/O Select Portfolio Servicing         1\n",
       "Wells Fargo Bank C/O Select Portfolio Servicing                        1\n",
       "The Bank of New York Mellon C/O Select Portfolio Servicing             1\n",
       "HSBC MORTGAGE CORPORATION                                              1\n",
       "Deutsche Bank National Trust Company C/O Select Portfolio Servicing    1\n",
       "Union Bank                                                             1\n",
       "U.S. Bank National Association C/O Select Portfolio Servicing          1\n",
       "Name: Lender, dtype: int64"
      ]
     },
     "execution_count": 47,
     "metadata": {},
     "output_type": "execute_result"
    }
   ],
   "source": [
    "temp9 = df[df['Lender'].map(df['Lender'].value_counts() >=10)]\n",
    "temp9 = temp9[['Lender', 'Property Type']].drop_duplicates()['Lender'].value_counts()\n",
    "temp9[temp9 == 1]"
   ]
  }
 ],
 "metadata": {
  "kernelspec": {
   "display_name": "Python 3 (ipykernel)",
   "language": "python",
   "name": "python3"
  },
  "language_info": {
   "codemirror_mode": {
    "name": "ipython",
    "version": 3
   },
   "file_extension": ".py",
   "mimetype": "text/x-python",
   "name": "python",
   "nbconvert_exporter": "python",
   "pygments_lexer": "ipython3",
   "version": "3.9.7"
  }
 },
 "nbformat": 4,
 "nbformat_minor": 5
}
